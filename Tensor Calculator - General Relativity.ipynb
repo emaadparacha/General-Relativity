{
 "cells": [
  {
   "cell_type": "markdown",
   "metadata": {},
   "source": [
    "# General Relativity - Tensor Calculator \n",
    "## Compute Reimann Tensors, Ricci Tensors, Christoffel Symbols, and the Ricci Scalar\n",
    "### A simple easy-to-use Jupyter Notebook to help compute Christoffel symbols, the Reimann and Ricci Tensors, and the Ricci Scalar using SymPy with a given spacetime metric in 3 + 1 dimensions\n",
    "\n",
    "By: Emaad Paracha"
   ]
  },
  {
   "cell_type": "markdown",
   "metadata": {},
   "source": [
    "## Instructions:\n",
    "\n",
    "The first two sections (Sections 0 and 1) of this notebook are \"configuration\" modules, while the last section (Section 2) is the \"computation\" module.<br/>\n",
    "\n",
    "Section 0 imports the dependencies. <br/>\n",
    "\n",
    "Section 1 is where all the functions are defined that compute the matrices for Christoffel symbols, and the Reimann and Ricci tensors, along with functions that would give individual values given specific indices. <b> <i> Normally you do not need to edit this section unless you want to play around with the code. I have commented some parts for ease of understanding. </i> </b> <br/>\n",
    "\n",
    "Section 2 is the computation section, this is where you edit and input your metric, the symbols (variables) that your metric depends on (in order), and the initial orientation of your metric (whether you have $g^{\\mu \\nu}$ or $g_{\\mu \\nu}$).\n"
   ]
  },
  {
   "cell_type": "markdown",
   "metadata": {},
   "source": [
    "## 0. Importing Dependencies"
   ]
  },
  {
   "cell_type": "code",
   "execution_count": 1,
   "metadata": {
    "collapsed": true
   },
   "outputs": [],
   "source": [
    "from sympy import *\n",
    "from sympy.matrices import Matrix, zeros\n",
    "from sympy import symbols\n",
    "from sympy import Function, Symbol, Derivative\n",
    "from IPython.display import display, Latex\n",
    "import warnings\n",
    "warnings.filterwarnings(\"ignore\", category=DeprecationWarning) \n",
    "init_printing(use_unicode=True)"
   ]
  },
  {
   "cell_type": "markdown",
   "metadata": {},
   "source": [
    "## 1. Defining Functions"
   ]
  },
  {
   "cell_type": "code",
   "execution_count": 2,
   "metadata": {
    "collapsed": true
   },
   "outputs": [],
   "source": [
    "orientationError = 'ERROR: Please enter either \"down\" or \"up\" for the orientation of your metric'\n",
    "indexError = 'ERROR: Please ensure your index values are integers between 0 and 3'\n",
    "\n",
    "#Function to compute all Christoffel symbols\n",
    "def ChristoffelSymbols(metricpack):\n",
    "    \n",
    "    g, sym, orientation = metricpack\n",
    "    \n",
    "    if (orientation != \"down\" and orientation != \"up\"):\n",
    "        #Ensuring the correct orientation values are inputted\n",
    "        print(orientationError)\n",
    "    \n",
    "    else:\n",
    "        #Having the right metric components corresponding to the upstairs or downstairs metric\n",
    "        if (orientation == \"down\"):\n",
    "            gdndn = g\n",
    "            gupup = gdndn.inv()\n",
    "        else:\n",
    "            gupup = g\n",
    "            gdndn = gupup.inv()\n",
    "\n",
    "        #Creating matrix for variables\n",
    "        dava = Matrix(sym)\n",
    "\n",
    "        #Creating empty Gamma matrix\n",
    "        Gamma = Matrix([[[0,0,0,0],[0,0,0,0],[0,0,0,0],[0,0,0,0]],\n",
    "                              [[0,0,0,0],[0,0,0,0],[0,0,0,0],[0,0,0,0]],\n",
    "                              [[0,0,0,0],[0,0,0,0],[0,0,0,0],[0,0,0,0]],\n",
    "                              [[0,0,0,0],[0,0,0,0],[0,0,0,0],[0,0,0,0]]])\n",
    "        #Compute Christoffels\n",
    "        for s in range(4):\n",
    "            for m in range(4):\n",
    "                for n in range(4):\n",
    "                    for l in range(4):\n",
    "                        Gamma[(m,n)][l] += simplify(((1/2)*gupup[(m,s)])*((diff(gdndn[(s,l)],dava[n])) \n",
    "                                              + (diff(gdndn[(n,s)],dava[l])) \n",
    "                                              - (diff(gdndn[(n,l)],dava[s]))))\n",
    "        return Gamma\n",
    "    \n",
    "\n",
    "#If we just need a specific Christoffel symbol\n",
    "def GiveChristoffel(mu,nu,lamb,metricpack):\n",
    "    \n",
    "    g, sym, orientation = metricpack\n",
    "    \n",
    "    if (orientation != \"down\" and orientation != \"up\"):\n",
    "        #Ensuring the correct orientation values are inputted\n",
    "        print(orientationError)\n",
    "    else:\n",
    "        if (isinstance(mu, int) and isinstance(nu, int) and isinstance(lamb, int) and mu < 4 and mu >=0 and nu < 4 and nu >=0 and lamb < 4 and lamb >=0):\n",
    "            chris = ChristoffelSymbols(metricpack)\n",
    "            return chris[(mu,nu)][lamb]\n",
    "        else:\n",
    "            print(indexError)\n",
    "    \n",
    "\n",
    "#Computing all Reimann Tensors\n",
    "def ReimannTensor(metricpack):\n",
    "    \n",
    "    g, sym, orientation = metricpack\n",
    "    \n",
    "    if (orientation != \"down\" and orientation != \"up\"):\n",
    "        #Ensuring the correct orientation values are inputted\n",
    "        print(orientationError)\n",
    "    \n",
    "    else:\n",
    "        #Christoffels\n",
    "        Gamma = ChristoffelSymbols(metricpack)\n",
    "\n",
    "        #Creating matrix for variables\n",
    "        dava = Matrix(sym)\n",
    "\n",
    "        #Empty Reimann Matrix\n",
    "        Reimann = Matrix([[[[0,0,0,0],[0,0,0,0],[0,0,0,0],[0,0,0,0]],\n",
    "                            [[0,0,0,0],[0,0,0,0],[0,0,0,0],[0,0,0,0]],\n",
    "                            [[0,0,0,0],[0,0,0,0],[0,0,0,0],[0,0,0,0]],\n",
    "                            [[0,0,0,0],[0,0,0,0],[0,0,0,0],[0,0,0,0]]],\n",
    "                           [[[0,0,0,0],[0,0,0,0],[0,0,0,0],[0,0,0,0]],\n",
    "                            [[0,0,0,0],[0,0,0,0],[0,0,0,0],[0,0,0,0]],\n",
    "                            [[0,0,0,0],[0,0,0,0],[0,0,0,0],[0,0,0,0]],\n",
    "                            [[0,0,0,0],[0,0,0,0],[0,0,0,0],[0,0,0,0]]],\n",
    "                           [[[0,0,0,0],[0,0,0,0],[0,0,0,0],[0,0,0,0]],\n",
    "                            [[0,0,0,0],[0,0,0,0],[0,0,0,0],[0,0,0,0]],\n",
    "                            [[0,0,0,0],[0,0,0,0],[0,0,0,0],[0,0,0,0]],\n",
    "                            [[0,0,0,0],[0,0,0,0],[0,0,0,0],[0,0,0,0]]],\n",
    "                           [[[0,0,0,0],[0,0,0,0],[0,0,0,0],[0,0,0,0]],\n",
    "                            [[0,0,0,0],[0,0,0,0],[0,0,0,0],[0,0,0,0]],\n",
    "                            [[0,0,0,0],[0,0,0,0],[0,0,0,0],[0,0,0,0]],\n",
    "                            [[0,0,0,0],[0,0,0,0],[0,0,0,0],[0,0,0,0]]]])\n",
    "\n",
    "        #Computing the Reimanns\n",
    "        for p in range(4):\n",
    "            for s in range(4):\n",
    "                for m in range(4):\n",
    "                    for n in range(4):\n",
    "                        Reimann[(p,s)][m][n] = simplify((diff(Gamma[(p,s)][n],dava[m]) - diff(Gamma[(p,s)][m],dava[n])))\n",
    "        l = 0\n",
    "        p = 0\n",
    "        s = 0\n",
    "        m = 0\n",
    "        n = 0\n",
    "\n",
    "        for l in range(4):\n",
    "            for p in range(4):\n",
    "                for s in range(4):\n",
    "                    for m in range(4):\n",
    "                        for n in range(4):\n",
    "                            Reimann[(p,s)][m][n] += simplify((Gamma[(l,s)][n]*Gamma[(p,l)][m] - Gamma[(l,s)][m]*Gamma[(p,l)][n]))\n",
    "\n",
    "        return Reimann\n",
    "    \n",
    "\n",
    "#If we just need a specific Reimann tensor\n",
    "def GiveReimann(pho,sigma,mu,nu,metricpack):\n",
    "    \n",
    "    g, sym, orientation = metricpack\n",
    "    \n",
    "    if (orientation != \"down\" and orientation != \"up\"):\n",
    "        #Ensuring the correct orientation values are inputted\n",
    "        print(orientationError)\n",
    "        \n",
    "    else:\n",
    "        if (isinstance(mu, int) and isinstance(nu, int) and isinstance(pho, int) and isinstance(sigma, int) and mu < 4 and mu >=0 and nu < 4 and nu >=0 and sigma < 4 and sigma >=0 and pho < 4 and pho >= 0):\n",
    "            rem = ReimannTensor(metricpack)\n",
    "            return rem[(pho,sigma)][mu][nu]\n",
    "        else:\n",
    "            print(indexError)\n",
    "    \n",
    "\n",
    "#Compute Ricci Tensor\n",
    "def RicciTensor(metricpack):\n",
    "    \n",
    "    g, sym, orientation = metricpack\n",
    "    \n",
    "    if (orientation != \"down\" and orientation != \"up\"):\n",
    "        #Ensuring the correct orientation values are inputted\n",
    "        print(orientationError)\n",
    "        \n",
    "    else:\n",
    "        remm = ReimannTensor(metricpack)\n",
    "        \n",
    "        Ricci = Matrix([[0,0,0,0],[0,0,0,0],\n",
    "                        [0,0,0,0],[0,0,0,0]])\n",
    "        \n",
    "        for x in range(4):\n",
    "            for y in range(4):\n",
    "                for z in range(4):\n",
    "                    Ricci[y,z] += simplify(remm[x,y][z][x])\n",
    "                    \n",
    "        return Ricci\n",
    "\n",
    "#If we just need a specific Ricci\n",
    "def GiveRicci(mu,nu,metricpack):\n",
    "    \n",
    "    g, sym, orientation = metricpack\n",
    "    \n",
    "    if (orientation != \"down\" and orientation != \"up\"):\n",
    "        #Ensuring the correct orientation values are inputted\n",
    "        print(orientationError)\n",
    "    \n",
    "    else:\n",
    "        ricci = RicciTensor(metricpack)\n",
    "        return simplify(ricci[mu,nu])\n",
    "\n",
    "#To compute Ricci Scalar\n",
    "def RicciScalar(metricpack):\n",
    "    \n",
    "    g, sym, orientation = metricpack\n",
    "    \n",
    "    if (orientation != \"down\" and orientation != \"up\"):\n",
    "        #Ensuring the correct orientation values are inputted\n",
    "        print(orientationError)\n",
    "        \n",
    "    else:\n",
    "        #Having the right metric components corresponding to the upstairs or downstairs metric\n",
    "        if (orientation == \"down\"):\n",
    "            gdndn = g\n",
    "            gupup = gdndn.inv()\n",
    "        else:\n",
    "            gupup = g\n",
    "            \n",
    "        ricciscalare = 0\n",
    "        \n",
    "        ricciten = RicciTensor(metricpack)\n",
    "        \n",
    "        for i in range(4):\n",
    "            ricciscalare += gupup[i,i]*ricciten[i,i]\n",
    "            \n",
    "        return simplify(ricciscalare)"
   ]
  },
  {
   "cell_type": "markdown",
   "metadata": {},
   "source": [
    "## 2. Computation"
   ]
  },
  {
   "cell_type": "markdown",
   "metadata": {},
   "source": [
    "<b>Instructions:</b> This is the section where you input your metric, the symbols (variables) that your metric depends on (in order), and the initial orientation of your metric (whether you have $g^{\\mu \\nu}$ or $g_{\\mu \\nu}$)\n",
    "\n",
    "This example is for a metric with the following line element:\n",
    "$$ ds^{2} = dt^{2} - t^{2}dr^{2} - t^{2}r^{2}d\\theta^{2} - t^{2}r^{2}sin^{2}\\theta d\\phi^{2} $$\n",
    "\n",
    "For ease of computations, I have assigned the following symbols to the variables the metric depends on:\n",
    "$$ t = t $$\n",
    "$$ r = r $$\n",
    "$$ h = \\theta $$\n",
    "$$ p = \\phi $$\n",
    "\n",
    "These symbols are accordingly edited in the two lines commented with \"Edit symbols here\"\n",
    "\n",
    "Next, enter the metric tensor in a matrix, labelled $\\texttt{gtensor}$ below, of the form:\n",
    "\n",
    "$$ \\begin{bmatrix}\n",
    "g_{00} & g_{01} & g_{02} & g_{03} \\\\\n",
    "g_{10} & g_{11} & g_{12} & g_{13} \\\\\n",
    "g_{20} & g_{21} & g_{22} & g_{23} \\\\\n",
    "g_{30} & g_{31} & g_{32} & g_{33}\n",
    "\\end{bmatrix} $$\n",
    "\n",
    "for $g_{\\mu \\nu}$ or similarly in the same format for $g^{\\mu \\nu}$.\n",
    "\n",
    "Lastly, for the metric you entered, please denote whether the indices are \"up\" or \"down\", for example if your metric was $g_{\\mu \\nu}$, enter \"down\" for the orientation, and if your metric was $g^{\\mu \\nu}$, enter \"up\" for your orientation.\n",
    "\n",
    "The code then packs these three items, the tensor, variables, and orientation, into a list, denoted by $\\texttt{metric}$, and you have a list of functions at your disposal to compute either the Reimann or Ricci tensors, the Ricci Scalar, or Christoffel symbols.\n",
    "\n",
    "To view your metric in a matrix form, call $\\texttt{gtensor}$.\n",
    "\n",
    "To view all possible Christoffel symbols in a 4x4x4 matrix, use $\\texttt{ChristoffelSymbols(metric)}$.\n",
    "\n",
    "To view a specific Christoffel symbol, i.e. $\\Gamma^{3}_{23}$, use $\\texttt{GiveChristoffel(3,2,3,metric)}$, where the first number, 3, is the upper index and 2 and 3 are the two lower indices in order.\n",
    "\n",
    "To view the Reimann tensor in a 4x4x4x4 matrix, use $\\texttt{ReimannTensor(metric)}$.\n",
    "\n",
    "To view a specific component of the Reimann tensor, i.e. $R^{1}_{313}$, use $\\texttt{GiveReimann(1,3,1,3,metric)}$, where the first number, 1, is the upper index and 3, 1, and 3 are the three lower indices in order.\n",
    "\n",
    "To view the Ricci tensor in a 4x4 matrix, use $\\texttt{RicciTensor(metric)}$.\n",
    "\n",
    "To view a specific component of the Ricci tensor, i.e. $R_{33}$, use $\\texttt{GiveRicci(3,3,metric)}$, where the numbers correspond to the two lower indices in order.\n",
    "\n",
    "Lastly, to compute the Ricci scalar for the metric, simply use $\\texttt{RicciScalar(metric)}$ to get the Ricci scalar.\n",
    "\n",
    "All examples have been computed below."
   ]
  },
  {
   "cell_type": "code",
   "execution_count": 3,
   "metadata": {
    "collapsed": true
   },
   "outputs": [],
   "source": [
    "t, r, h, p = symbols('t r h p') #Edit symbols here\n",
    "variables = [t,r,h,p] #Edit symbols here\n",
    "\n",
    "gtensor = Matrix([[1,0,0,0], #Corresponding to g00, g01, g02, g03\n",
    "               [0,-t**2,0,0], #Corresponding to g10, g11, g12, g13\n",
    "               [0,0,(-t**2)*r**2,0], #Corresponding to g20, g21, g22, g23\n",
    "               [0,0,0,(-t**2)*(r**2)*(sin(h)**2)]]) #Corresponding to g30, g31, g32, g33\n",
    "\n",
    "orientation = \"down\" #Orientation of the gtensor, whether it is g_mu_nu (\"down\") or g^mu^nu (\"up\")\n",
    "\n",
    "metric = [gtensor,variables,orientation] #List of the gtensor, variables and orientation to be used"
   ]
  },
  {
   "cell_type": "code",
   "execution_count": 4,
   "metadata": {},
   "outputs": [
    {
     "data": {
      "text/latex": [
       "$\\displaystyle \\left[\\begin{matrix}1 & 0 & 0 & 0\\\\0 & - t^{2} & 0 & 0\\\\0 & 0 & - r^{2} t^{2} & 0\\\\0 & 0 & 0 & - r^{2} t^{2} \\sin^{2}{\\left(h \\right)}\\end{matrix}\\right]$"
      ],
      "text/plain": [
       "⎡1   0     0           0       ⎤\n",
       "⎢                              ⎥\n",
       "⎢     2                        ⎥\n",
       "⎢0  -t     0           0       ⎥\n",
       "⎢                              ⎥\n",
       "⎢          2  2                ⎥\n",
       "⎢0   0   -r ⋅t         0       ⎥\n",
       "⎢                              ⎥\n",
       "⎢                  2  2    2   ⎥\n",
       "⎣0   0     0     -r ⋅t ⋅sin (h)⎦"
      ]
     },
     "execution_count": 4,
     "metadata": {},
     "output_type": "execute_result"
    }
   ],
   "source": [
    "#Display the metric tensor:\n",
    "gtensor"
   ]
  },
  {
   "cell_type": "code",
   "execution_count": 5,
   "metadata": {},
   "outputs": [
    {
     "data": {
      "text/latex": [
       "$\\displaystyle \\left[\\begin{matrix}\\left[ 0, \\  0, \\  0, \\  0\\right] & \\left[ 0, \\  1.0 t, \\  0, \\  0\\right] & \\left[ 0, \\  0, \\  1.0 r^{2} t, \\  0\\right] & \\left[ 0, \\  0, \\  0, \\  1.0 r^{2} t \\sin^{2}{\\left(h \\right)}\\right]\\\\\\left[ 0, \\  \\frac{1.0}{t}, \\  0, \\  0\\right] & \\left[ \\frac{1.0}{t}, \\  0, \\  0, \\  0\\right] & \\left[ 0, \\  0, \\  - 1.0 r, \\  0\\right] & \\left[ 0, \\  0, \\  0, \\  - 1.0 r \\sin^{2}{\\left(h \\right)}\\right]\\\\\\left[ 0, \\  0, \\  \\frac{1.0}{t}, \\  0\\right] & \\left[ 0, \\  0, \\  \\frac{1.0}{r}, \\  0\\right] & \\left[ \\frac{1.0}{t}, \\  \\frac{1.0}{r}, \\  0, \\  0\\right] & \\left[ 0, \\  0, \\  0, \\  - 0.5 \\sin{\\left(2 h \\right)}\\right]\\\\\\left[ 0, \\  0, \\  0, \\  \\frac{1.0}{t}\\right] & \\left[ 0, \\  0, \\  0, \\  \\frac{1.0}{r}\\right] & \\left[ 0, \\  0, \\  0, \\  \\frac{1.0}{\\tan{\\left(h \\right)}}\\right] & \\left[ \\frac{1.0}{t}, \\  \\frac{1.0}{r}, \\  \\frac{1.0}{\\tan{\\left(h \\right)}}, \\  0\\right]\\end{matrix}\\right]$"
      ],
      "text/plain": [
       "⎡                                  ⎡           2     ⎤  ⎡              2      \n",
       "⎢ [0, 0, 0, 0]   [0, 1.0⋅t, 0, 0]  ⎣0, 0, 1.0⋅r ⋅t, 0⎦  ⎣0, 0, 0, 1.0⋅r ⋅t⋅sin\n",
       "⎢                                                                             \n",
       "⎢⎡   1.0      ⎤   ⎡1.0         ⎤                         ⎡                   2\n",
       "⎢⎢0, ───, 0, 0⎥   ⎢───, 0, 0, 0⎥    [0, 0, -1.0⋅r, 0]    ⎣0, 0, 0, -1.0⋅r⋅sin \n",
       "⎢⎣    t       ⎦   ⎣ t          ⎦                                              \n",
       "⎢                                                                             \n",
       "⎢⎡      1.0   ⎤   ⎡      1.0   ⎤    ⎡1.0  1.0      ⎤                          \n",
       "⎢⎢0, 0, ───, 0⎥   ⎢0, 0, ───, 0⎥    ⎢───, ───, 0, 0⎥     [0, 0, 0, -0.5⋅sin(2⋅\n",
       "⎢⎣       t    ⎦   ⎣       r    ⎦    ⎣ t    r       ⎦                          \n",
       "⎢                                                                             \n",
       "⎢⎡         1.0⎤   ⎡         1.0⎤    ⎡          1.0  ⎤      ⎡1.0  1.0   1.0    \n",
       "⎢⎢0, 0, 0, ───⎥   ⎢0, 0, 0, ───⎥    ⎢0, 0, 0, ──────⎥      ⎢───, ───, ──────, \n",
       "⎣⎣          t ⎦   ⎣          r ⎦    ⎣         tan(h)⎦      ⎣ t    r   tan(h)  \n",
       "\n",
       "2   ⎤⎤\n",
       " (h)⎦⎥\n",
       "     ⎥\n",
       "   ⎤ ⎥\n",
       "(h)⎦ ⎥\n",
       "     ⎥\n",
       "     ⎥\n",
       "     ⎥\n",
       "h)]  ⎥\n",
       "     ⎥\n",
       "     ⎥\n",
       " ⎤   ⎥\n",
       "0⎥   ⎥\n",
       " ⎦   ⎦"
      ]
     },
     "execution_count": 5,
     "metadata": {},
     "output_type": "execute_result"
    }
   ],
   "source": [
    "#Display a matrix of all possible Christoffel Symbols:\n",
    "ChristoffelSymbols(metric)"
   ]
  },
  {
   "cell_type": "code",
   "execution_count": 6,
   "metadata": {},
   "outputs": [
    {
     "data": {
      "text/latex": [
       "$\\displaystyle \\frac{1.0}{\\tan{\\left(h \\right)}}$"
      ],
      "text/plain": [
       " 1.0  \n",
       "──────\n",
       "tan(h)"
      ]
     },
     "execution_count": 6,
     "metadata": {},
     "output_type": "execute_result"
    }
   ],
   "source": [
    "#Compute an example Christoffel, here we are computing Γ^(3)_(2,3)\n",
    "GiveChristoffel(3,2,3,metric)"
   ]
  },
  {
   "cell_type": "code",
   "execution_count": 7,
   "metadata": {},
   "outputs": [
    {
     "data": {
      "text/latex": [
       "$\\displaystyle \\left[\\begin{matrix}\\left[ \\left[ 0, \\  0, \\  0, \\  0\\right], \\  \\left[ 0, \\  0, \\  0, \\  0\\right], \\  \\left[ 0, \\  0, \\  0, \\  0\\right], \\  \\left[ 0, \\  0, \\  0, \\  0\\right]\\right] & \\left[ \\left[ 0, \\  0, \\  0, \\  0\\right], \\  \\left[ 0, \\  0, \\  0, \\  0\\right], \\  \\left[ 0, \\  0, \\  0, \\  0\\right], \\  \\left[ 0, \\  0, \\  0, \\  0\\right]\\right] & \\left[ \\left[ 0, \\  0, \\  0, \\  0\\right], \\  \\left[ 0, \\  0, \\  0, \\  0\\right], \\  \\left[ 0, \\  0, \\  0, \\  0\\right], \\  \\left[ 0, \\  0, \\  0, \\  0\\right]\\right] & \\left[ \\left[ 0, \\  0, \\  0, \\  0\\right], \\  \\left[ 0, \\  0, \\  0, \\  0\\right], \\  \\left[ 0, \\  0, \\  0, \\  0\\right], \\  \\left[ 0, \\  0, \\  0, \\  0\\right]\\right]\\\\\\left[ \\left[ 0, \\  0, \\  0, \\  0\\right], \\  \\left[ 0, \\  0, \\  0, \\  0\\right], \\  \\left[ 0, \\  0, \\  0, \\  0\\right], \\  \\left[ 0, \\  0, \\  0, \\  0\\right]\\right] & \\left[ \\left[ 0, \\  0, \\  0, \\  0\\right], \\  \\left[ 0, \\  0, \\  0, \\  0\\right], \\  \\left[ 0, \\  0, \\  0, \\  0\\right], \\  \\left[ 0, \\  0, \\  0, \\  0\\right]\\right] & \\left[ \\left[ 0, \\  0, \\  0, \\  0\\right], \\  \\left[ 0, \\  0, \\  1.0 r^{2}, \\  0\\right], \\  \\left[ 0, \\  - 1.0 r^{2}, \\  0, \\  0\\right], \\  \\left[ 0, \\  0, \\  0, \\  0\\right]\\right] & \\left[ \\left[ 0, \\  0, \\  0, \\  0\\right], \\  \\left[ 0, \\  0, \\  0, \\  1.0 r^{2} \\sin^{2}{\\left(h \\right)}\\right], \\  \\left[ 0, \\  0, \\  0, \\  0\\right], \\  \\left[ 0, \\  - 1.0 r^{2} \\sin^{2}{\\left(h \\right)}, \\  0, \\  0\\right]\\right]\\\\\\left[ \\left[ 0, \\  0, \\  0, \\  0\\right], \\  \\left[ 0, \\  0, \\  0, \\  0\\right], \\  \\left[ 0, \\  0, \\  0, \\  0\\right], \\  \\left[ 0, \\  0, \\  0, \\  0\\right]\\right] & \\left[ \\left[ 0, \\  0, \\  0, \\  0\\right], \\  \\left[ 0, \\  0, \\  -1.0, \\  0\\right], \\  \\left[ 0, \\  1.0, \\  0, \\  0\\right], \\  \\left[ 0, \\  0, \\  0, \\  0\\right]\\right] & \\left[ \\left[ 0, \\  0, \\  0, \\  0\\right], \\  \\left[ 0, \\  0, \\  0, \\  0\\right], \\  \\left[ 0, \\  0, \\  0, \\  0\\right], \\  \\left[ 0, \\  0, \\  0, \\  0\\right]\\right] & \\left[ \\left[ 0, \\  0, \\  0, \\  0\\right], \\  \\left[ 0, \\  0, \\  0, \\  0\\right], \\  \\left[ 0, \\  0, \\  0, \\  1.0 r^{2} \\sin^{2}{\\left(h \\right)} - 1.0 \\sin^{2}{\\left(h \\right)} + \\frac{0.5 \\sin{\\left(2 h \\right)}}{\\tan{\\left(h \\right)}} - 1.0 \\cos{\\left(2 h \\right)}\\right], \\  \\left[ 0, \\  0, \\  - 1.0 r^{2} \\sin^{2}{\\left(h \\right)} + 1.0 \\sin^{2}{\\left(h \\right)} - \\frac{0.5 \\sin{\\left(2 h \\right)}}{\\tan{\\left(h \\right)}} + 1.0 \\cos{\\left(2 h \\right)}, \\  0\\right]\\right]\\\\\\left[ \\left[ 0, \\  0, \\  0, \\  0\\right], \\  \\left[ 0, \\  0, \\  0, \\  0\\right], \\  \\left[ 0, \\  0, \\  0, \\  0\\right], \\  \\left[ 0, \\  0, \\  0, \\  0\\right]\\right] & \\left[ \\left[ 0, \\  0, \\  0, \\  0\\right], \\  \\left[ 0, \\  0, \\  0, \\  -1.0\\right], \\  \\left[ 0, \\  0, \\  0, \\  0\\right], \\  \\left[ 0, \\  1.0, \\  0, \\  0\\right]\\right] & \\left[ \\left[ 0, \\  0, \\  0, \\  0\\right], \\  \\left[ 0, \\  0, \\  0, \\  0\\right], \\  \\left[ 0, \\  0, \\  0, \\  - 1.0 r^{2} + 1.0 + \\frac{1.0}{\\tan^{2}{\\left(h \\right)}} - \\frac{1.0}{\\sin^{2}{\\left(h \\right)}}\\right], \\  \\left[ 0, \\  0, \\  1.0 r^{2} - 1.0 - \\frac{1.0}{\\tan^{2}{\\left(h \\right)}} + \\frac{1.0}{\\sin^{2}{\\left(h \\right)}}, \\  0\\right]\\right] & \\left[ \\left[ 0, \\  0, \\  0, \\  0\\right], \\  \\left[ 0, \\  0, \\  0, \\  0\\right], \\  \\left[ 0, \\  0, \\  0, \\  0\\right], \\  \\left[ 0, \\  0, \\  0, \\  0\\right]\\right]\\end{matrix}\\right]$"
      ],
      "text/plain": [
       "⎡[[0, 0, 0, 0], [0, 0, 0, 0], [0, 0, 0, 0], [0, 0, 0, 0]]    [[0, 0, 0, 0], [0\n",
       "⎢                                                                             \n",
       "⎢                                                                             \n",
       "⎢[[0, 0, 0, 0], [0, 0, 0, 0], [0, 0, 0, 0], [0, 0, 0, 0]]    [[0, 0, 0, 0], [0\n",
       "⎢                                                                             \n",
       "⎢                                                                             \n",
       "⎢[[0, 0, 0, 0], [0, 0, 0, 0], [0, 0, 0, 0], [0, 0, 0, 0]]  [[0, 0, 0, 0], [0, \n",
       "⎢                                                                             \n",
       "⎢                                                                             \n",
       "⎢                                                                             \n",
       "⎢[[0, 0, 0, 0], [0, 0, 0, 0], [0, 0, 0, 0], [0, 0, 0, 0]]  [[0, 0, 0, 0], [0, \n",
       "⎢                                                                             \n",
       "⎣                                                                             \n",
       "\n",
       ", 0, 0, 0], [0, 0, 0, 0], [0, 0, 0, 0]]                                   [[0,\n",
       "                                                                              \n",
       "                                                                    ⎡         \n",
       ", 0, 0, 0], [0, 0, 0, 0], [0, 0, 0, 0]]                             ⎣[0, 0, 0,\n",
       "                                                                              \n",
       "                                                                              \n",
       "0, -1.0, 0], [0, 1.0, 0, 0], [0, 0, 0, 0]]                                [[0,\n",
       "                                                                              \n",
       "                                                                              \n",
       "                                            ⎡                            ⎡    \n",
       "0, 0, -1.0], [0, 0, 0, 0], [0, 1.0, 0, 0]]  ⎢[0, 0, 0, 0], [0, 0, 0, 0], ⎢0, 0\n",
       "                                            ⎢                            ⎢    \n",
       "                                            ⎣                            ⎣    \n",
       "\n",
       " 0, 0, 0], [0, 0, 0, 0], [0, 0, 0, 0], [0, 0, 0, 0]]                          \n",
       "                                                                              \n",
       "     ⎡           2   ⎤  ⎡         2      ⎤              ⎤                     \n",
       " 0], ⎣0, 0, 1.0⋅r , 0⎦, ⎣0, -1.0⋅r , 0, 0⎦, [0, 0, 0, 0]⎦                     \n",
       "                                                                              \n",
       "                                                                              \n",
       " 0, 0, 0], [0, 0, 0, 0], [0, 0, 0, 0], [0, 0, 0, 0]]                          \n",
       "                                                                              \n",
       "                                                                              \n",
       "        2           1.0        1   ⎤  ⎡           2            1        1.0   \n",
       ", 0, - r  + 1.0 + ─────── - ───────⎥, ⎢0, 0, 1.0⋅r  - 1.0 - ─────── + ───────,\n",
       "                     2         2   ⎥  ⎢                        2         2    \n",
       "                  tan (h)   sin (h)⎦  ⎣                     tan (h)   sin (h) \n",
       "\n",
       "                                                          [[0, 0, 0, 0], [0, 0\n",
       "                                                                              \n",
       "                                            ⎡              ⎡              2   \n",
       "                                            ⎣[0, 0, 0, 0], ⎣0, 0, 0, 1.0⋅r ⋅si\n",
       "                                                                              \n",
       "      ⎡                            ⎡              2    2         2      0.5⋅si\n",
       "      ⎢[0, 0, 0, 0], [0, 0, 0, 0], ⎢0, 0, 0, 1.0⋅r ⋅sin (h) - sin (h) + ──────\n",
       "      ⎣                            ⎣                                       tan\n",
       "                                                                              \n",
       "  ⎤⎤                                                                          \n",
       " 0⎥⎥                                                      [[0, 0, 0, 0], [0, 0\n",
       "  ⎥⎥                                                                          \n",
       "  ⎦⎦                                                                          \n",
       "\n",
       ", 0, 0], [0, 0, 0, 0], [0, 0, 0, 0]]                                          \n",
       "                                                                              \n",
       " 2   ⎤                ⎡         2    2         ⎤⎤                             \n",
       "n (h)⎦, [0, 0, 0, 0], ⎣0, -1.0⋅r ⋅sin (h), 0, 0⎦⎦                             \n",
       "                                                                              \n",
       "n(2⋅h)           ⎤  ⎡         2    2             2      0.5⋅sin(2⋅h)          \n",
       "────── - cos(2⋅h)⎥, ⎢0, 0, - r ⋅sin (h) + 1.0⋅sin (h) - ──────────── + 1.0⋅cos\n",
       "(h)              ⎦  ⎣                                      tan(h)             \n",
       "                                                                              \n",
       "                                                                              \n",
       ", 0, 0], [0, 0, 0, 0], [0, 0, 0, 0]]                                          \n",
       "                                                                              \n",
       "                                                                              \n",
       "\n",
       "          ⎤\n",
       "          ⎥\n",
       "          ⎥\n",
       "          ⎥\n",
       "          ⎥\n",
       "        ⎤⎤⎥\n",
       "(2⋅h), 0⎥⎥⎥\n",
       "        ⎦⎦⎥\n",
       "          ⎥\n",
       "          ⎥\n",
       "          ⎥\n",
       "          ⎥\n",
       "          ⎦"
      ]
     },
     "execution_count": 7,
     "metadata": {},
     "output_type": "execute_result"
    }
   ],
   "source": [
    "#Display the Reimann Tensor:\n",
    "ReimannTensor(metric)"
   ]
  },
  {
   "cell_type": "code",
   "execution_count": 8,
   "metadata": {},
   "outputs": [
    {
     "data": {
      "text/latex": [
       "$\\displaystyle 1.0 r^{2} \\sin^{2}{\\left(h \\right)}$"
      ],
      "text/plain": [
       "     2    2   \n",
       "1.0⋅r ⋅sin (h)"
      ]
     },
     "execution_count": 8,
     "metadata": {},
     "output_type": "execute_result"
    }
   ],
   "source": [
    "#Compute a specific Reimann, here we are computing R^(1)_(3,1,3)\n",
    "GiveReimann(1,3,1,3,metric)"
   ]
  },
  {
   "cell_type": "code",
   "execution_count": 9,
   "metadata": {},
   "outputs": [
    {
     "data": {
      "text/latex": [
       "$\\displaystyle \\left[\\begin{matrix}0 & 0 & 0 & 0\\\\0 & -2.0 & 0 & 0\\\\0 & 0 & - 2.0 r^{2} & 0\\\\0 & 0 & 0 & - 2.0 r^{2} \\sin^{2}{\\left(h \\right)}\\end{matrix}\\right]$"
      ],
      "text/plain": [
       "⎡0   0       0            0       ⎤\n",
       "⎢                                 ⎥\n",
       "⎢0  -2.0     0            0       ⎥\n",
       "⎢                                 ⎥\n",
       "⎢               2                 ⎥\n",
       "⎢0   0    -2.0⋅r          0       ⎥\n",
       "⎢                                 ⎥\n",
       "⎢                        2    2   ⎥\n",
       "⎣0   0       0     -2.0⋅r ⋅sin (h)⎦"
      ]
     },
     "execution_count": 9,
     "metadata": {},
     "output_type": "execute_result"
    }
   ],
   "source": [
    "#Display the Ricci Tensor:\n",
    "RicciTensor(metric)"
   ]
  },
  {
   "cell_type": "code",
   "execution_count": 10,
   "metadata": {},
   "outputs": [
    {
     "data": {
      "text/latex": [
       "$\\displaystyle - 2.0 r^{2} \\sin^{2}{\\left(h \\right)}$"
      ],
      "text/plain": [
       "      2    2   \n",
       "-2.0⋅r ⋅sin (h)"
      ]
     },
     "execution_count": 10,
     "metadata": {},
     "output_type": "execute_result"
    }
   ],
   "source": [
    "#Compute a specific Ricci, here we are computing R_(3,3)\n",
    "GiveRicci(3,3,metric)"
   ]
  },
  {
   "cell_type": "code",
   "execution_count": 11,
   "metadata": {},
   "outputs": [
    {
     "data": {
      "text/latex": [
       "$\\displaystyle \\frac{6.0}{t^{2}}$"
      ],
      "text/plain": [
       "6.0\n",
       "───\n",
       "  2\n",
       " t "
      ]
     },
     "execution_count": 11,
     "metadata": {},
     "output_type": "execute_result"
    }
   ],
   "source": [
    "#Display the Ricci Scalar:\n",
    "RicciScalar(metric)"
   ]
  }
 ],
 "metadata": {
  "kernelspec": {
   "display_name": "Python 3",
   "language": "python",
   "name": "python3"
  },
  "language_info": {
   "codemirror_mode": {
    "name": "ipython",
    "version": 3
   },
   "file_extension": ".py",
   "mimetype": "text/x-python",
   "name": "python",
   "nbconvert_exporter": "python",
   "pygments_lexer": "ipython3",
   "version": "3.9.6"
  }
 },
 "nbformat": 4,
 "nbformat_minor": 2
}
